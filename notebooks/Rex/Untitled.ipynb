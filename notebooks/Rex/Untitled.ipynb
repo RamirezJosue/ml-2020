{
 "cells": [
  {
   "cell_type": "code",
   "execution_count": 1,
   "metadata": {},
   "outputs": [],
   "source": [
    "#R"
   ]
  },
  {
   "cell_type": "code",
   "execution_count": 2,
   "metadata": {},
   "outputs": [],
   "source": [
    "x <- c(1,3,2)"
   ]
  },
  {
   "cell_type": "code",
   "execution_count": 4,
   "metadata": {},
   "outputs": [
    {
     "data": {
      "text/html": [
       "<style>\n",
       ".list-inline {list-style: none; margin:0; padding: 0}\n",
       ".list-inline>li {display: inline-block}\n",
       ".list-inline>li:not(:last-child)::after {content: \"\\00b7\"; padding: 0 .5ex}\n",
       "</style>\n",
       "<ol class=list-inline><li>1</li><li>3</li><li>2</li></ol>\n"
      ],
      "text/latex": [
       "\\begin{enumerate*}\n",
       "\\item 1\n",
       "\\item 3\n",
       "\\item 2\n",
       "\\end{enumerate*}\n"
      ],
      "text/markdown": [
       "1. 1\n",
       "2. 3\n",
       "3. 2\n",
       "\n",
       "\n"
      ],
      "text/plain": [
       "[1] 1 3 2"
      ]
     },
     "metadata": {},
     "output_type": "display_data"
    }
   ],
   "source": [
    "x"
   ]
  },
  {
   "cell_type": "code",
   "execution_count": 5,
   "metadata": {},
   "outputs": [
    {
     "data": {
      "text/html": [
       "2"
      ],
      "text/latex": [
       "2"
      ],
      "text/markdown": [
       "2"
      ],
      "text/plain": [
       "[1] 2"
      ]
     },
     "metadata": {},
     "output_type": "display_data"
    }
   ],
   "source": [
    "mean(x)"
   ]
  },
  {
   "cell_type": "code",
   "execution_count": 6,
   "metadata": {},
   "outputs": [
    {
     "data": {
      "text/html": [
       "1"
      ],
      "text/latex": [
       "1"
      ],
      "text/markdown": [
       "1"
      ],
      "text/plain": [
       "[1] 1"
      ]
     },
     "metadata": {},
     "output_type": "display_data"
    }
   ],
   "source": [
    "sd(x)"
   ]
  },
  {
   "cell_type": "markdown",
   "metadata": {},
   "source": [
    " Se tienen dos grupos de personas A,B; en ambos grupos se mide el peso (kg) y la talla (cm)\n",
    "Grupo A: 67,69,68,70\n",
    "Grupo B: 171,154,148,151,177\n",
    "¿Cual de los grupos es más variable? NO se puede aplicar la desviación estándar.\n",
    "Se debe usar el Coeficiente de variabilidad!!"
   ]
  },
  {
   "cell_type": "code",
   "execution_count": 19,
   "metadata": {},
   "outputs": [],
   "source": [
    "a<-c(67,69,68,70)\n",
    "b<-c( 171,154, 148,151,177 )"
   ]
  },
  {
   "cell_type": "code",
   "execution_count": 20,
   "metadata": {},
   "outputs": [],
   "source": [
    "cva<-sd(a)*100/mean(a)\n",
    "cvb<-sd(b)*100/mean(b)"
   ]
  },
  {
   "cell_type": "code",
   "execution_count": 21,
   "metadata": {},
   "outputs": [
    {
     "data": {
      "text/html": [
       "1.88466342881139"
      ],
      "text/latex": [
       "1.88466342881139"
      ],
      "text/markdown": [
       "1.88466342881139"
      ],
      "text/plain": [
       "[1] 1.884663"
      ]
     },
     "metadata": {},
     "output_type": "display_data"
    },
    {
     "data": {
      "text/html": [
       "8.08358519010221"
      ],
      "text/latex": [
       "8.08358519010221"
      ],
      "text/markdown": [
       "8.08358519010221"
      ],
      "text/plain": [
       "[1] 8.083585"
      ]
     },
     "metadata": {},
     "output_type": "display_data"
    }
   ],
   "source": [
    "cva\n",
    "cvb"
   ]
  },
  {
   "cell_type": "code",
   "execution_count": 22,
   "metadata": {},
   "outputs": [
    {
     "data": {
      "text/html": [
       "1.29099444873581"
      ],
      "text/latex": [
       "1.29099444873581"
      ],
      "text/markdown": [
       "1.29099444873581"
      ],
      "text/plain": [
       "[1] 1.290994"
      ]
     },
     "metadata": {},
     "output_type": "display_data"
    },
    {
     "data": {
      "text/html": [
       "12.9499034745437"
      ],
      "text/latex": [
       "12.9499034745437"
      ],
      "text/markdown": [
       "12.9499034745437"
      ],
      "text/plain": [
       "[1] 12.9499"
      ]
     },
     "metadata": {},
     "output_type": "display_data"
    }
   ],
   "source": [
    "sd(a)\n",
    "sd(b)"
   ]
  },
  {
   "cell_type": "markdown",
   "metadata": {},
   "source": [
    "Conclusión: El grupo B al que se le midio la estatura, tiene mayor variabilidad; sin\n",
    "embargo ambos grupos tienen poca variabilidad"
   ]
  },
  {
   "cell_type": "code",
   "execution_count": 28,
   "metadata": {},
   "outputs": [
    {
     "data": {
      "text/html": [
       "60.7333333333333"
      ],
      "text/latex": [
       "60.7333333333333"
      ],
      "text/markdown": [
       "60.7333333333333"
      ],
      "text/plain": [
       "[1] 60.73333"
      ]
     },
     "metadata": {},
     "output_type": "display_data"
    },
    {
     "data": {
      "text/html": [
       "55.3846153846154"
      ],
      "text/latex": [
       "55.3846153846154"
      ],
      "text/markdown": [
       "55.3846153846154"
      ],
      "text/plain": [
       "[1] 55.38462"
      ]
     },
     "metadata": {},
     "output_type": "display_data"
    },
    {
     "data": {
      "text/html": [
       "55.3846153846154"
      ],
      "text/latex": [
       "55.3846153846154"
      ],
      "text/markdown": [
       "55.3846153846154"
      ],
      "text/plain": [
       "[1] 55.38462"
      ]
     },
     "metadata": {},
     "output_type": "display_data"
    }
   ],
   "source": [
    "#Media recortada\n",
    "x<-c(1,23,26,27,33,39,51,56,66,73,73,83,84,86,190)\n",
    "mean(x)\n",
    "mean(x,trim=0.1)\n",
    "x<-c(23,26,27,33,39,51,56,66,73,73,83,84,86)\n",
    "mean(x)"
   ]
  },
  {
   "cell_type": "code",
   "execution_count": 29,
   "metadata": {},
   "outputs": [],
   "source": [
    "library(readxl)\n",
    "datos <- read_excel(\"datos_ejemplo.xlsx\",4)"
   ]
  },
  {
   "cell_type": "markdown",
   "metadata": {},
   "source": [
    "Calcular: media y el coeficiente de variabilidad de la distribución de las tallas\n",
    "Usando R para la determinación de la media y coeficiente de variabilidad:"
   ]
  },
  {
   "cell_type": "code",
   "execution_count": 30,
   "metadata": {},
   "outputs": [
    {
     "data": {
      "text/html": [
       "149.490322580645"
      ],
      "text/latex": [
       "149.490322580645"
      ],
      "text/markdown": [
       "149.490322580645"
      ],
      "text/plain": [
       "[1] 149.4903"
      ]
     },
     "metadata": {},
     "output_type": "display_data"
    },
    {
     "data": {
      "text/html": [
       "2.38806199923745"
      ],
      "text/latex": [
       "2.38806199923745"
      ],
      "text/markdown": [
       "2.38806199923745"
      ],
      "text/plain": [
       "[1] 2.388062"
      ]
     },
     "metadata": {},
     "output_type": "display_data"
    },
    {
     "data": {
      "text/html": [
       "1.59746929300334"
      ],
      "text/latex": [
       "1.59746929300334"
      ],
      "text/markdown": [
       "1.59746929300334"
      ],
      "text/plain": [
       "[1] 1.597469"
      ]
     },
     "metadata": {},
     "output_type": "display_data"
    }
   ],
   "source": [
    "mean(TALLA)\n",
    "sd(TALLA)\n",
    "cv<-sd(TALLA)*100/mean(TALLA)\n",
    "cv"
   ]
  },
  {
   "cell_type": "markdown",
   "metadata": {},
   "source": [
    "La estatura promedio de los niños encuestados es 149.49cm, y de acuerdo al cv, se puede\n",
    "decir que hay bastante homogeneidad en la distribución de los datos"
   ]
  },
  {
   "cell_type": "markdown",
   "metadata": {},
   "source": [
    "3. Determine e interprete el valor de la Moda.\n"
   ]
  },
  {
   "cell_type": "code",
   "execution_count": 32,
   "metadata": {},
   "outputs": [
    {
     "data": {
      "text/plain": [
       "TALLA\n",
       "143.7 143.8 144.7 144.8 145.1 145.7 145.8 145.9   146 146.8   147 147.1 147.2 \n",
       "    2     1     1     2     1     2     1     1     1     1     1     2     2 \n",
       "147.8 147.9   148 148.1 148.2 148.9   149 149.1 149.2 149.8 149.9   150 150.1 \n",
       "    1     4     1     1     3     2     3     3     4     1     5     5     4 \n",
       "150.2 150.3 150.8 150.9   151 151.1 151.8 151.9   152 152.1 152.2   153 153.1 \n",
       "    5     1     1     4     3     3     1     2     4     6     2     2     2 \n",
       "153.2 153.8 \n",
       "    1     1 "
      ]
     },
     "metadata": {},
     "output_type": "display_data"
    }
   ],
   "source": [
    "#Determinar e interpretar la moda\n",
    "table(TALLA) # contabiliza la frecuencia de ocurrencia de cada valor de TALLA"
   ]
  },
  {
   "cell_type": "markdown",
   "metadata": {},
   "source": [
    "Mo=152.1; por lo tanto la estatura mas frecuente en lo alumnos es de 152.1 cm"
   ]
  },
  {
   "cell_type": "code",
   "execution_count": 34,
   "metadata": {},
   "outputs": [],
   "source": [
    "tab.talla<-as.data.frame(table(TALLA))\n"
   ]
  },
  {
   "cell_type": "code",
   "execution_count": 35,
   "metadata": {},
   "outputs": [
    {
     "data": {
      "text/plain": [
       "   ESTUDIANTE      NIVEL_N               PESO          TALLA      \n",
       " Min.   : 23.0   Length:93          Min.   :45.0   Min.   :143.7  \n",
       " 1st Qu.:391.0   Class :character   1st Qu.:47.0   1st Qu.:148.0  \n",
       " Median :594.0   Mode  :character   Median :49.0   Median :150.0  \n",
       " Mean   :525.8                      Mean   :48.8   Mean   :149.5  \n",
       " 3rd Qu.:695.0                      3rd Qu.:50.1   3rd Qu.:151.1  \n",
       " Max.   :830.0                      Max.   :52.1   Max.   :153.8  \n",
       "  INGRESO_FAM    Nro_hermanos      GENERO              NSE           \n",
       " Min.   :1035   Min.   :0.000   Length:93          Length:93         \n",
       " 1st Qu.:2267   1st Qu.:0.000   Class :character   Class :character  \n",
       " Median :4115   Median :1.000   Mode  :character   Mode  :character  \n",
       " Mean   :4039   Mean   :1.398                                        \n",
       " 3rd Qu.:4798   3rd Qu.:3.000                                        \n",
       " Max.   :9416   Max.   :3.000                                        \n",
       " opinion causas desnutricion    NIVEL_NC     \n",
       " Length:93                   Min.   :0.0000  \n",
       " Class :character            1st Qu.:0.0000  \n",
       " Mode  :character            Median :0.0000  \n",
       "                             Mean   :0.3226  \n",
       "                             3rd Qu.:1.0000  \n",
       "                             Max.   :3.0000  "
      ]
     },
     "metadata": {},
     "output_type": "display_data"
    }
   ],
   "source": [
    "summary(datos)"
   ]
  },
  {
   "cell_type": "code",
   "execution_count": null,
   "metadata": {},
   "outputs": [],
   "source": []
  }
 ],
 "metadata": {
  "kernelspec": {
   "display_name": "R",
   "language": "R",
   "name": "ir"
  },
  "language_info": {
   "codemirror_mode": "r",
   "file_extension": ".r",
   "mimetype": "text/x-r-source",
   "name": "R",
   "pygments_lexer": "r",
   "version": "3.5.2"
  }
 },
 "nbformat": 4,
 "nbformat_minor": 4
}
